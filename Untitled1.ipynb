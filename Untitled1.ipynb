{
 "cells": [
  {
   "cell_type": "code",
   "execution_count": 1,
   "id": "1db9d46b",
   "metadata": {},
   "outputs": [],
   "source": [
    "import tensorflow as tf\n",
    "import numpy as np"
   ]
  },
  {
   "cell_type": "code",
   "execution_count": 2,
   "id": "bff2c8c5",
   "metadata": {},
   "outputs": [],
   "source": [
    "base_dir=r\"D:\\Varsity\\Defense\\BDSLAUST\\AUSt-full\\DATASET\\BdSl_Raw2\\BdSL\""
   ]
  },
  {
   "cell_type": "code",
   "execution_count": 3,
   "id": "27b9b6b0",
   "metadata": {},
   "outputs": [
    {
     "name": "stdout",
     "output_type": "stream",
     "text": [
      "Found 1730 images belonging to 36 classes.\n",
      "Found 414 images belonging to 36 classes.\n"
     ]
    }
   ],
   "source": [
    "IMAGE_SIZE=224\n",
    "BATCH_SIZE=32\n",
    "\n",
    "train_datagen=tf.keras.preprocessing.image.ImageDataGenerator(\n",
    "    rescale=1./255,\n",
    "    shear_range=0.2,\n",
    "    zoom_range=0.2,\n",
    "    horizontal_flip=True,\n",
    "    validation_split=0.2\n",
    "    )\n",
    "\n",
    "test_datagen=tf.keras.preprocessing.image.ImageDataGenerator(\n",
    "     rescale=1./255,\n",
    "     validation_split=0.2\n",
    ")\n",
    "\n",
    "train_datagen=train_datagen.flow_from_directory(\n",
    "    base_dir,\n",
    "    target_size=(IMAGE_SIZE,IMAGE_SIZE),\n",
    "    batch_size=BATCH_SIZE,\n",
    "    subset='training'\n",
    ")\n",
    "\n",
    "test_datagen=test_datagen.flow_from_directory(\n",
    "    base_dir,\n",
    "    target_size=(IMAGE_SIZE,IMAGE_SIZE),\n",
    "    batch_size=BATCH_SIZE,\n",
    "    subset='validation'\n",
    ")"
   ]
  },
  {
   "cell_type": "code",
   "execution_count": 4,
   "id": "e70c0b2c",
   "metadata": {},
   "outputs": [],
   "source": [
    "import tensorflow_hub as hub"
   ]
  },
  {
   "cell_type": "code",
   "execution_count": 5,
   "id": "6d16a48d",
   "metadata": {},
   "outputs": [
    {
     "name": "stdout",
     "output_type": "stream",
     "text": [
      "WARNING:tensorflow:From C:\\Users\\Admin\\.conda\\envs\\tf-radeon\\lib\\site-packages\\tensorflow_core\\python\\ops\\resource_variable_ops.py:1630: calling BaseResourceVariable.__init__ (from tensorflow.python.ops.resource_variable_ops) with constraint is deprecated and will be removed in a future version.\n",
      "Instructions for updating:\n",
      "If using Keras pass *_constraint arguments to layers.\n"
     ]
    }
   ],
   "source": [
    "cnn=tf.keras.Sequential()\n",
    "cnn.add(tf.keras.layers.Conv2D(filters=64,padding='same',strides=2,kernel_size=3,activation='relu',input_shape=(224,224,3)))\n",
    "cnn.add(tf.keras.layers.MaxPool2D(pool_size=2,strides=2))\n",
    "\n",
    "cnn.add(tf.keras.layers.Conv2D(filters=32,padding='same',strides=2,kernel_size=3,activation='relu'))\n",
    "cnn.add(tf.keras.layers.MaxPool2D(pool_size=2,strides=2))\n",
    "\n",
    "cnn.add(tf.keras.layers.Conv2D(filters=32,padding='same',strides=2,kernel_size=3,activation='relu'))\n",
    "cnn.add(tf.keras.layers.MaxPool2D(pool_size=2))\n",
    "\n",
    "cnn.add(tf.keras.layers.Flatten())\n",
    "cnn.add(tf.keras.layers.Dense(36,activation='softmax'))"
   ]
  },
  {
   "cell_type": "code",
   "execution_count": 6,
   "id": "c141112a",
   "metadata": {},
   "outputs": [],
   "source": [
    "cnn.compile(optimizer=tf.keras.optimizers.Adam(),loss='categorical_crossentropy',metrics=['accuracy'])"
   ]
  },
  {
   "cell_type": "code",
   "execution_count": 7,
   "id": "00147ee4",
   "metadata": {},
   "outputs": [
    {
     "name": "stdout",
     "output_type": "stream",
     "text": [
      "Requirement already satisfied: scipy in c:\\users\\admin\\.conda\\envs\\tf-radeon\\lib\\site-packages (1.5.4)\n",
      "Requirement already satisfied: numpy>=1.14.5 in c:\\users\\admin\\.conda\\envs\\tf-radeon\\lib\\site-packages (from scipy) (1.19.2)\n",
      "Note: you may need to restart the kernel to use updated packages.\n"
     ]
    }
   ],
   "source": [
    "pip install scipy"
   ]
  },
  {
   "cell_type": "code",
   "execution_count": 8,
   "id": "dd6a78b4",
   "metadata": {},
   "outputs": [
    {
     "name": "stdout",
     "output_type": "stream",
     "text": [
      "Epoch 1/20\n",
      "54/55 [============================>.] - ETA: 1s - loss: 3.2064 - acc: 0.2309Epoch 1/20\n",
      "55/55 [==============================] - 121s 2s/step - loss: 3.1988 - acc: 0.2329 - val_loss: 3.1666 - val_acc: 0.2512\n",
      "Epoch 2/20\n",
      "54/55 [============================>.] - ETA: 0s - loss: 3.0818 - acc: 0.2415Epoch 1/20\n",
      "55/55 [==============================] - 65s 1s/step - loss: 3.0816 - acc: 0.2416 - val_loss: 3.1498 - val_acc: 0.2512\n",
      "Epoch 3/20\n",
      "54/55 [============================>.] - ETA: 0s - loss: 3.0271 - acc: 0.2415Epoch 1/20\n",
      "55/55 [==============================] - 64s 1s/step - loss: 3.0238 - acc: 0.2416 - val_loss: 3.1370 - val_acc: 0.2512\n",
      "Epoch 4/20\n",
      "54/55 [============================>.] - ETA: 0s - loss: 3.0300 - acc: 0.2438Epoch 1/20\n",
      "55/55 [==============================] - 65s 1s/step - loss: 3.0348 - acc: 0.2416 - val_loss: 3.0832 - val_acc: 0.2512\n",
      "Epoch 5/20\n",
      "54/55 [============================>.] - ETA: 0s - loss: 2.9760 - acc: 0.2397Epoch 1/20\n",
      "55/55 [==============================] - 67s 1s/step - loss: 2.9781 - acc: 0.2399 - val_loss: 3.1181 - val_acc: 0.2512\n",
      "Epoch 6/20\n",
      "54/55 [============================>.] - ETA: 0s - loss: 2.9401 - acc: 0.2379Epoch 1/20\n",
      "55/55 [==============================] - 65s 1s/step - loss: 2.9330 - acc: 0.2405 - val_loss: 3.1208 - val_acc: 0.2633\n",
      "Epoch 7/20\n",
      "54/55 [============================>.] - ETA: 0s - loss: 2.8073 - acc: 0.2585Epoch 1/20\n",
      "55/55 [==============================] - 64s 1s/step - loss: 2.8125 - acc: 0.2578 - val_loss: 3.0622 - val_acc: 0.2560\n",
      "Epoch 8/20\n",
      "54/55 [============================>.] - ETA: 0s - loss: 2.7391 - acc: 0.2886Epoch 1/20\n",
      "55/55 [==============================] - 64s 1s/step - loss: 2.7356 - acc: 0.2896 - val_loss: 3.2525 - val_acc: 0.1087\n",
      "Epoch 9/20\n",
      "54/55 [============================>.] - ETA: 0s - loss: 2.5687 - acc: 0.3286Epoch 1/20\n",
      "55/55 [==============================] - 63s 1s/step - loss: 2.5726 - acc: 0.3266 - val_loss: 3.3897 - val_acc: 0.1014\n",
      "Epoch 10/20\n",
      "54/55 [============================>.] - ETA: 0s - loss: 2.5238 - acc: 0.3339Epoch 1/20\n",
      "55/55 [==============================] - 66s 1s/step - loss: 2.5181 - acc: 0.3364 - val_loss: 3.3026 - val_acc: 0.1014\n",
      "Epoch 11/20\n",
      "54/55 [============================>.] - ETA: 0s - loss: 2.4131 - acc: 0.3539Epoch 1/20\n",
      "55/55 [==============================] - 64s 1s/step - loss: 2.4162 - acc: 0.3543 - val_loss: 3.4679 - val_acc: 0.1184\n",
      "Epoch 12/20\n",
      "54/55 [============================>.] - ETA: 0s - loss: 2.3251 - acc: 0.3728Epoch 1/20\n",
      "55/55 [==============================] - 65s 1s/step - loss: 2.3310 - acc: 0.3711 - val_loss: 3.6082 - val_acc: 0.1184\n",
      "Epoch 13/20\n",
      "54/55 [============================>.] - ETA: 0s - loss: 2.2225 - acc: 0.3846Epoch 1/20\n",
      "55/55 [==============================] - 63s 1s/step - loss: 2.2256 - acc: 0.3850 - val_loss: 4.0358 - val_acc: 0.0845\n",
      "Epoch 14/20\n",
      "54/55 [============================>.] - ETA: 0s - loss: 2.2270 - acc: 0.3810Epoch 1/20\n",
      "55/55 [==============================] - 63s 1s/step - loss: 2.2352 - acc: 0.3803 - val_loss: 3.6934 - val_acc: 0.1184\n",
      "Epoch 15/20\n",
      "54/55 [============================>.] - ETA: 0s - loss: 2.1922 - acc: 0.4058Epoch 1/20\n",
      "55/55 [==============================] - 63s 1s/step - loss: 2.1896 - acc: 0.4069 - val_loss: 4.2831 - val_acc: 0.0821\n",
      "Epoch 16/20\n",
      "54/55 [============================>.] - ETA: 0s - loss: 2.1160 - acc: 0.4246Epoch 1/20\n",
      "55/55 [==============================] - 64s 1s/step - loss: 2.1068 - acc: 0.4277 - val_loss: 4.0093 - val_acc: 0.1039\n",
      "Epoch 17/20\n",
      "54/55 [============================>.] - ETA: 0s - loss: 1.9442 - acc: 0.4617Epoch 1/20\n",
      "55/55 [==============================] - 64s 1s/step - loss: 1.9507 - acc: 0.4601 - val_loss: 4.7389 - val_acc: 0.0821\n",
      "Epoch 18/20\n",
      "54/55 [============================>.] - ETA: 0s - loss: 1.9581 - acc: 0.4535Epoch 1/20\n",
      "55/55 [==============================] - 66s 1s/step - loss: 1.9574 - acc: 0.4538 - val_loss: 4.3247 - val_acc: 0.0845\n",
      "Epoch 19/20\n",
      "54/55 [============================>.] - ETA: 0s - loss: 1.9303 - acc: 0.4753Epoch 1/20\n",
      "55/55 [==============================] - 64s 1s/step - loss: 1.9281 - acc: 0.4746 - val_loss: 4.3714 - val_acc: 0.0652\n",
      "Epoch 20/20\n",
      "54/55 [============================>.] - ETA: 0s - loss: 1.8268 - acc: 0.4865Epoch 1/20\n",
      "55/55 [==============================] - 65s 1s/step - loss: 1.8319 - acc: 0.4861 - val_loss: 4.4355 - val_acc: 0.0870\n"
     ]
    },
    {
     "data": {
      "text/plain": [
       "<tensorflow.python.keras.callbacks.History at 0x1394e56c3c8>"
      ]
     },
     "execution_count": 8,
     "metadata": {},
     "output_type": "execute_result"
    }
   ],
   "source": [
    "cnn.fit(train_datagen,epochs=20,validation_data=test_datagen)"
   ]
  },
  {
   "cell_type": "code",
   "execution_count": null,
   "id": "6ad8eeda",
   "metadata": {},
   "outputs": [],
   "source": []
  }
 ],
 "metadata": {
  "kernelspec": {
   "display_name": "Python 3",
   "language": "python",
   "name": "python3"
  },
  "language_info": {
   "codemirror_mode": {
    "name": "ipython",
    "version": 3
   },
   "file_extension": ".py",
   "mimetype": "text/x-python",
   "name": "python",
   "nbconvert_exporter": "python",
   "pygments_lexer": "ipython3",
   "version": "3.6.13"
  }
 },
 "nbformat": 4,
 "nbformat_minor": 5
}
